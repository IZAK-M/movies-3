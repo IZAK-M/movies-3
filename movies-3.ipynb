{
 "cells": [
  {
   "cell_type": "markdown",
   "metadata": {},
   "source": [
    "# Movies 3"
   ]
  },
  {
   "cell_type": "markdown",
   "metadata": {},
   "source": [
    "## Introduction\n",
    "\n",
    "Une base de données (hébergée dans le cloud AWS) contenant un certain nombre de données cinématographiques vous est fournie pour exploration et mise en pratique des langages SQL et Python.  \n",
    "Les données de connexion (user, host) sont indiquées dans le brief, le mot de passe nécessaire est précisé en session par le formateur.  \n"
   ]
  },
  {
   "cell_type": "markdown",
   "metadata": {},
   "source": [
    "## 1. Description Générale\n",
    "\n",
    "En utilisant DBeaver et les paramètres de connexion donnés par ailleurs, faire une description détaillée de la base de données fournie. Présenter notamment le diagramme entité - relation (ERD) et les différentes caractéristiques des tables de la base.  Quelles types de renseignement peut-on tirer de cette base de données ?   "
   ]
  },
  {
   "cell_type": "markdown",
   "metadata": {},
   "source": [
    "**description détaillée de la base de données fournie**"
   ]
  },
  {
   "cell_type": "markdown",
   "metadata": {},
   "source": [
    "### La base de données fournie s'appelle \"movies\" composée de 4 tables:\n",
    "\n",
    "- artists: champs: \n",
    "                  - id (int)\n",
    "                  - lastname (varchar(30))\n",
    "                  - firstname (varchar(30))\n",
    "                  - birthyear (int))\n",
    "\n",
    "- countries: champs: \n",
    "                  - code (varchar(4))\n",
    "                  - name (varchar(30))\n",
    "                  - language (varchar(30))\n",
    "\n",
    "- movies: champs: \n",
    "                  - id (int)\n",
    "                  - title (varchar(80))\n",
    "                  - year (int)\n",
    "                  - directorId (int)\n",
    "                  - genre (varchar(20))\n",
    "                  - summary (text)\n",
    "                  - countrycode  (varchar(4)))\n",
    "\n",
    "- roles: champs: \n",
    "                  - movieId (int)\n",
    "                  - actorId (int)\n",
    "                  - character (varchar(255)))"
   ]
  },
  {
   "cell_type": "markdown",
   "metadata": {},
   "source": [
    "**Présentation du diagramme entité - relation (ERD)**"
   ]
  },
  {
   "attachments": {
    "babad620-9372-4cd5-93e4-49d4bff5a3c1.PNG": {
     "image/png": "[encoded data removed]"
    }
   },
   "cell_type": "markdown",
   "metadata": {},
   "source": [
    "![Capture.PNG](attachment:babad620-9372-4cd5-93e4-49d4bff5a3c1.PNG)"
   ]
  },
  {
   "cell_type": "markdown",
   "metadata": {},
   "source": [
    "**Présenter les différentes caractéristiques des tables de la base :**"
   ]
  },
  {
   "cell_type": "markdown",
   "metadata": {},
   "source": [
    "- La Table movies: présente le titre, l'année, le genre et le résumé des films listés, ainsi que l'identifiant de leur réalisateur et le code pays. \n",
    "- La Table countries: explicite pour chaque code pays le nom de celui-ci et sa langue. \n",
    "- La Table roles donne pour chaque film (movieId) ses acteurs (actorId) et le personnage que chacun joue. \n",
    "- La Table artists présente le prénom, nom de famille et année de naissance des acteurs.\n",
    "\n"
   ]
  },
  {
   "cell_type": "markdown",
   "metadata": {},
   "source": [
    "**Quelles types de renseignement peut-on tirer de cette base de données ?**"
   ]
  },
  {
   "cell_type": "markdown",
   "metadata": {},
   "source": [
    "Grâce à cette BD on peut plus facilement exploiter les informations sur chaque acteur que dans les bases de données précédentes.\n",
    "\n",
    "Ainsi Par exemple, on peut obtenir la liste des films dans lesquels un acteur donné a joué, on peut savoir aussi si ce dernier est réalisateur ou non ....etc."
   ]
  },
  {
   "cell_type": "markdown",
   "metadata": {},
   "source": [
    "---\n",
    "\n",
    "## 2. Exploration SQL via python / pandas\n",
    "Dans cette partie, on s'attache à explorer la base de données en utilisant le language SQL pour les requêtes et le language Python (+ module pandas) pour récupérer les résultats de façon programmatique.  \n",
    "Vous pouvez utiliser DBeaver ou outil similaire pour préparer / tester vos requêtes mais celles-ci doivent être reportées et appliquées dans du code Python comme présenté dans les quelques examples à suivre.  \n",
    "*Pour les résultats \"longs\", un aperçu des quelques premières lignes et le comptage total des résultats est suffisant.*"
   ]
  },
  {
   "cell_type": "code",
   "execution_count": 1,
   "metadata": {},
   "outputs": [],
   "source": [
    "import os\n",
    "import pandas as pd"
   ]
  },
  {
   "cell_type": "code",
   "execution_count": 2,
   "metadata": {},
   "outputs": [],
   "source": [
    "from sqlalchemy import create_engine\n",
    "import pymysql"
   ]
  },
  {
   "cell_type": "code",
   "execution_count": 3,
   "metadata": {},
   "outputs": [],
   "source": [
    "# paramètres de connexion à la base de données movies (MySQL sous AWS RDS)\n",
    "user = os.environ.get('movies3_user')\n",
    "password = os.environ.get('movies3_psw') \n",
    "host = os.environ.get('movies3_host')  \n",
    "port = 3306\n",
    "dbname = 'movies'  \n",
    "\n",
    "engine = create_engine(f\"mysql+pymysql://{user}:{password}@{host}:{port}/{dbname}\")"
   ]
  },
  {
   "cell_type": "markdown",
   "metadata": {},
   "source": [
    "### Exemples"
   ]
  },
  {
   "cell_type": "markdown",
   "metadata": {},
   "source": [
    "#### Tables de base"
   ]
  },
  {
   "cell_type": "code",
   "execution_count": 4,
   "metadata": {},
   "outputs": [
    {
     "data": {
      "text/html": [
       "<div>\n",
       "<style scoped>\n",
       "    .dataframe tbody tr th:only-of-type {\n",
       "        vertical-align: middle;\n",
       "    }\n",
       "\n",
       "    .dataframe tbody tr th {\n",
       "        vertical-align: top;\n",
       "    }\n",
       "\n",
       "    .dataframe thead th {\n",
       "        text-align: right;\n",
       "    }\n",
       "</style>\n",
       "<table border=\"1\" class=\"dataframe\">\n",
       "  <thead>\n",
       "    <tr style=\"text-align: right;\">\n",
       "      <th></th>\n",
       "      <th>id</th>\n",
       "      <th>title</th>\n",
       "      <th>year</th>\n",
       "      <th>directorId</th>\n",
       "      <th>genre</th>\n",
       "      <th>summary</th>\n",
       "      <th>countrycode</th>\n",
       "    </tr>\n",
       "  </thead>\n",
       "  <tbody>\n",
       "    <tr>\n",
       "      <th>0</th>\n",
       "      <td>11</td>\n",
       "      <td>La Guerre des étoiles</td>\n",
       "      <td>1977</td>\n",
       "      <td>1</td>\n",
       "      <td>Aventure</td>\n",
       "      <td>Il y a bien longtemps, dans une galaxie très l...</td>\n",
       "      <td>US</td>\n",
       "    </tr>\n",
       "    <tr>\n",
       "      <th>1</th>\n",
       "      <td>24</td>\n",
       "      <td>Kill Bill : Volume 1</td>\n",
       "      <td>2003</td>\n",
       "      <td>138</td>\n",
       "      <td>Action</td>\n",
       "      <td>Au cours d'une cérémonie de mariage en plein d...</td>\n",
       "      <td>US</td>\n",
       "    </tr>\n",
       "    <tr>\n",
       "      <th>2</th>\n",
       "      <td>28</td>\n",
       "      <td>Apocalypse Now</td>\n",
       "      <td>1979</td>\n",
       "      <td>1776</td>\n",
       "      <td>Drame</td>\n",
       "      <td>L'état-major américain confie au jeune capitai...</td>\n",
       "      <td>US</td>\n",
       "    </tr>\n",
       "    <tr>\n",
       "      <th>3</th>\n",
       "      <td>33</td>\n",
       "      <td>Impitoyable</td>\n",
       "      <td>1992</td>\n",
       "      <td>190</td>\n",
       "      <td>Western</td>\n",
       "      <td>Après avoir été un impitoyable tueur, toujours...</td>\n",
       "      <td>US</td>\n",
       "    </tr>\n",
       "    <tr>\n",
       "      <th>4</th>\n",
       "      <td>38</td>\n",
       "      <td>Eternal Sunshine of the Spotless Mind</td>\n",
       "      <td>2004</td>\n",
       "      <td>201</td>\n",
       "      <td>Science-Fiction</td>\n",
       "      <td>Joël et Clémentine ne voient plus que les mauv...</td>\n",
       "      <td>US</td>\n",
       "    </tr>\n",
       "  </tbody>\n",
       "</table>\n",
       "</div>"
      ],
      "text/plain": [
       "   id                                  title  year  directorId  \\\n",
       "0  11                  La Guerre des étoiles  1977           1   \n",
       "1  24                   Kill Bill : Volume 1  2003         138   \n",
       "2  28                         Apocalypse Now  1979        1776   \n",
       "3  33                            Impitoyable  1992         190   \n",
       "4  38  Eternal Sunshine of the Spotless Mind  2004         201   \n",
       "\n",
       "             genre                                            summary  \\\n",
       "0         Aventure  Il y a bien longtemps, dans une galaxie très l...   \n",
       "1           Action  Au cours d'une cérémonie de mariage en plein d...   \n",
       "2            Drame  L'état-major américain confie au jeune capitai...   \n",
       "3          Western  Après avoir été un impitoyable tueur, toujours...   \n",
       "4  Science-Fiction  Joël et Clémentine ne voient plus que les mauv...   \n",
       "\n",
       "  countrycode  \n",
       "0          US  \n",
       "1          US  \n",
       "2          US  \n",
       "3          US  \n",
       "4          US  "
      ]
     },
     "execution_count": 4,
     "metadata": {},
     "output_type": "execute_result"
    }
   ],
   "source": [
    "movies = pd.read_sql_query(\"SELECT * FROM movies LIMIT 10\", engine)\n",
    "movies.head()"
   ]
  },
  {
   "cell_type": "code",
   "execution_count": 5,
   "metadata": {},
   "outputs": [
    {
     "data": {
      "text/html": [
       "<div>\n",
       "<style scoped>\n",
       "    .dataframe tbody tr th:only-of-type {\n",
       "        vertical-align: middle;\n",
       "    }\n",
       "\n",
       "    .dataframe tbody tr th {\n",
       "        vertical-align: top;\n",
       "    }\n",
       "\n",
       "    .dataframe thead th {\n",
       "        text-align: right;\n",
       "    }\n",
       "</style>\n",
       "<table border=\"1\" class=\"dataframe\">\n",
       "  <thead>\n",
       "    <tr style=\"text-align: right;\">\n",
       "      <th></th>\n",
       "      <th>id</th>\n",
       "      <th>lastname</th>\n",
       "      <th>firstname</th>\n",
       "      <th>birthyear</th>\n",
       "    </tr>\n",
       "  </thead>\n",
       "  <tbody>\n",
       "    <tr>\n",
       "      <th>0</th>\n",
       "      <td>1</td>\n",
       "      <td>Lucas</td>\n",
       "      <td>George</td>\n",
       "      <td>1944</td>\n",
       "    </tr>\n",
       "    <tr>\n",
       "      <th>1</th>\n",
       "      <td>2</td>\n",
       "      <td>Hamill</td>\n",
       "      <td>Mark</td>\n",
       "      <td>1951</td>\n",
       "    </tr>\n",
       "    <tr>\n",
       "      <th>2</th>\n",
       "      <td>3</td>\n",
       "      <td>Ford</td>\n",
       "      <td>Harrison</td>\n",
       "      <td>1942</td>\n",
       "    </tr>\n",
       "    <tr>\n",
       "      <th>3</th>\n",
       "      <td>4</td>\n",
       "      <td>Fisher</td>\n",
       "      <td>Carrie</td>\n",
       "      <td>1956</td>\n",
       "    </tr>\n",
       "    <tr>\n",
       "      <th>4</th>\n",
       "      <td>5</td>\n",
       "      <td>Cushing</td>\n",
       "      <td>Peter</td>\n",
       "      <td>1913</td>\n",
       "    </tr>\n",
       "  </tbody>\n",
       "</table>\n",
       "</div>"
      ],
      "text/plain": [
       "   id lastname firstname  birthyear\n",
       "0   1    Lucas    George       1944\n",
       "1   2   Hamill      Mark       1951\n",
       "2   3     Ford  Harrison       1942\n",
       "3   4   Fisher    Carrie       1956\n",
       "4   5  Cushing     Peter       1913"
      ]
     },
     "execution_count": 5,
     "metadata": {},
     "output_type": "execute_result"
    }
   ],
   "source": [
    "artists = pd.read_sql_query(\"SELECT * FROM artists LIMIT 10\", engine)\n",
    "artists.head()"
   ]
  },
  {
   "cell_type": "code",
   "execution_count": 6,
   "metadata": {},
   "outputs": [
    {
     "data": {
      "text/html": [
       "<div>\n",
       "<style scoped>\n",
       "    .dataframe tbody tr th:only-of-type {\n",
       "        vertical-align: middle;\n",
       "    }\n",
       "\n",
       "    .dataframe tbody tr th {\n",
       "        vertical-align: top;\n",
       "    }\n",
       "\n",
       "    .dataframe thead th {\n",
       "        text-align: right;\n",
       "    }\n",
       "</style>\n",
       "<table border=\"1\" class=\"dataframe\">\n",
       "  <thead>\n",
       "    <tr style=\"text-align: right;\">\n",
       "      <th></th>\n",
       "      <th>movieId</th>\n",
       "      <th>actorId</th>\n",
       "      <th>character</th>\n",
       "    </tr>\n",
       "  </thead>\n",
       "  <tbody>\n",
       "    <tr>\n",
       "      <th>0</th>\n",
       "      <td>11</td>\n",
       "      <td>2</td>\n",
       "      <td>Luke Skywalker</td>\n",
       "    </tr>\n",
       "    <tr>\n",
       "      <th>1</th>\n",
       "      <td>1891</td>\n",
       "      <td>2</td>\n",
       "      <td>Luke Skywalker</td>\n",
       "    </tr>\n",
       "    <tr>\n",
       "      <th>2</th>\n",
       "      <td>1892</td>\n",
       "      <td>2</td>\n",
       "      <td>Luke Skywalker</td>\n",
       "    </tr>\n",
       "    <tr>\n",
       "      <th>3</th>\n",
       "      <td>181808</td>\n",
       "      <td>2</td>\n",
       "      <td>Luke Skywalker / Dobbu Scay (voice)</td>\n",
       "    </tr>\n",
       "    <tr>\n",
       "      <th>4</th>\n",
       "      <td>11</td>\n",
       "      <td>3</td>\n",
       "      <td>Han Solo</td>\n",
       "    </tr>\n",
       "  </tbody>\n",
       "</table>\n",
       "</div>"
      ],
      "text/plain": [
       "   movieId  actorId                            character\n",
       "0       11        2                       Luke Skywalker\n",
       "1     1891        2                       Luke Skywalker\n",
       "2     1892        2                       Luke Skywalker\n",
       "3   181808        2  Luke Skywalker / Dobbu Scay (voice)\n",
       "4       11        3                             Han Solo"
      ]
     },
     "execution_count": 6,
     "metadata": {},
     "output_type": "execute_result"
    }
   ],
   "source": [
    "roles = pd.read_sql_query(\"SELECT * FROM roles LIMIT 10\", engine)\n",
    "roles.head()"
   ]
  },
  {
   "cell_type": "code",
   "execution_count": 7,
   "metadata": {},
   "outputs": [
    {
     "data": {
      "text/html": [
       "<div>\n",
       "<style scoped>\n",
       "    .dataframe tbody tr th:only-of-type {\n",
       "        vertical-align: middle;\n",
       "    }\n",
       "\n",
       "    .dataframe tbody tr th {\n",
       "        vertical-align: top;\n",
       "    }\n",
       "\n",
       "    .dataframe thead th {\n",
       "        text-align: right;\n",
       "    }\n",
       "</style>\n",
       "<table border=\"1\" class=\"dataframe\">\n",
       "  <thead>\n",
       "    <tr style=\"text-align: right;\">\n",
       "      <th></th>\n",
       "      <th>code</th>\n",
       "      <th>name</th>\n",
       "      <th>language</th>\n",
       "    </tr>\n",
       "  </thead>\n",
       "  <tbody>\n",
       "    <tr>\n",
       "      <th>0</th>\n",
       "      <td>AU</td>\n",
       "      <td>Australia</td>\n",
       "      <td></td>\n",
       "    </tr>\n",
       "    <tr>\n",
       "      <th>1</th>\n",
       "      <td>BE</td>\n",
       "      <td>Belgium</td>\n",
       "      <td></td>\n",
       "    </tr>\n",
       "    <tr>\n",
       "      <th>2</th>\n",
       "      <td>BS</td>\n",
       "      <td>Bahamas</td>\n",
       "      <td></td>\n",
       "    </tr>\n",
       "    <tr>\n",
       "      <th>3</th>\n",
       "      <td>CA</td>\n",
       "      <td>Canada</td>\n",
       "      <td></td>\n",
       "    </tr>\n",
       "    <tr>\n",
       "      <th>4</th>\n",
       "      <td>CN</td>\n",
       "      <td>China</td>\n",
       "      <td></td>\n",
       "    </tr>\n",
       "  </tbody>\n",
       "</table>\n",
       "</div>"
      ],
      "text/plain": [
       "  code       name language\n",
       "0   AU  Australia         \n",
       "1   BE    Belgium         \n",
       "2   BS    Bahamas         \n",
       "3   CA     Canada         \n",
       "4   CN      China         "
      ]
     },
     "execution_count": 7,
     "metadata": {},
     "output_type": "execute_result"
    }
   ],
   "source": [
    "countries = pd.read_sql_query(\"SELECT * FROM countries LIMIT 10\", engine)\n",
    "countries.head()"
   ]
  },
  {
   "cell_type": "markdown",
   "metadata": {},
   "source": [
    "#### Autre requête simple\n",
    "Q00: Nom et année de naissance des artistes nés après 1975 ? Combien sont-ils ?"
   ]
  },
  {
   "cell_type": "code",
   "execution_count": 8,
   "metadata": {},
   "outputs": [
    {
     "data": {
      "text/html": [
       "<div>\n",
       "<style scoped>\n",
       "    .dataframe tbody tr th:only-of-type {\n",
       "        vertical-align: middle;\n",
       "    }\n",
       "\n",
       "    .dataframe tbody tr th {\n",
       "        vertical-align: top;\n",
       "    }\n",
       "\n",
       "    .dataframe thead th {\n",
       "        text-align: right;\n",
       "    }\n",
       "</style>\n",
       "<table border=\"1\" class=\"dataframe\">\n",
       "  <thead>\n",
       "    <tr style=\"text-align: right;\">\n",
       "      <th></th>\n",
       "      <th>id</th>\n",
       "      <th>lastname</th>\n",
       "      <th>firstname</th>\n",
       "      <th>birthyear</th>\n",
       "    </tr>\n",
       "  </thead>\n",
       "  <tbody>\n",
       "    <tr>\n",
       "      <th>0</th>\n",
       "      <td>131</td>\n",
       "      <td>Gyllenhaal</td>\n",
       "      <td>Jake</td>\n",
       "      <td>1980</td>\n",
       "    </tr>\n",
       "    <tr>\n",
       "      <th>1</th>\n",
       "      <td>205</td>\n",
       "      <td>Dunst</td>\n",
       "      <td>Kirsten</td>\n",
       "      <td>1982</td>\n",
       "    </tr>\n",
       "    <tr>\n",
       "      <th>2</th>\n",
       "      <td>225</td>\n",
       "      <td>Holmes</td>\n",
       "      <td>Ashton</td>\n",
       "      <td>1978</td>\n",
       "    </tr>\n",
       "    <tr>\n",
       "      <th>3</th>\n",
       "      <td>258</td>\n",
       "      <td>García Bernal</td>\n",
       "      <td>Gael</td>\n",
       "      <td>1978</td>\n",
       "    </tr>\n",
       "    <tr>\n",
       "      <th>4</th>\n",
       "      <td>368</td>\n",
       "      <td>Witherspoon</td>\n",
       "      <td>Reese</td>\n",
       "      <td>1976</td>\n",
       "    </tr>\n",
       "  </tbody>\n",
       "</table>\n",
       "</div>"
      ],
      "text/plain": [
       "    id       lastname firstname  birthyear\n",
       "0  131     Gyllenhaal      Jake       1980\n",
       "1  205          Dunst   Kirsten       1982\n",
       "2  225         Holmes    Ashton       1978\n",
       "3  258  García Bernal      Gael       1978\n",
       "4  368    Witherspoon     Reese       1976"
      ]
     },
     "execution_count": 8,
     "metadata": {},
     "output_type": "execute_result"
    }
   ],
   "source": [
    "sql_query_00 = \"\"\"\n",
    "    SELECT *\n",
    "    FROM artists\n",
    "    WHERE birthyear > 1975\n",
    "\"\"\"\n",
    "\n",
    "results = pd.read_sql_query(sql_query_00, engine)\n",
    "results.head(5)"
   ]
  },
  {
   "cell_type": "code",
   "execution_count": 9,
   "metadata": {},
   "outputs": [
    {
     "data": {
      "text/plain": [
       "(118, 4)"
      ]
     },
     "execution_count": 9,
     "metadata": {},
     "output_type": "execute_result"
    }
   ],
   "source": [
    "results.shape"
   ]
  },
  {
   "cell_type": "code",
   "execution_count": 10,
   "metadata": {},
   "outputs": [
    {
     "data": {
      "text/plain": [
       "118"
      ]
     },
     "execution_count": 10,
     "metadata": {},
     "output_type": "execute_result"
    }
   ],
   "source": [
    "len(results)"
   ]
  },
  {
   "cell_type": "markdown",
   "metadata": {},
   "source": [
    "### Questions"
   ]
  },
  {
   "cell_type": "markdown",
   "metadata": {},
   "source": [
    "**Q01: Quels sont les films de type 'Drame' ? Combien cela représente de films ?**"
   ]
  },
  {
   "cell_type": "code",
   "execution_count": 11,
   "metadata": {},
   "outputs": [
    {
     "data": {
      "text/html": [
       "<div>\n",
       "<style scoped>\n",
       "    .dataframe tbody tr th:only-of-type {\n",
       "        vertical-align: middle;\n",
       "    }\n",
       "\n",
       "    .dataframe tbody tr th {\n",
       "        vertical-align: top;\n",
       "    }\n",
       "\n",
       "    .dataframe thead th {\n",
       "        text-align: right;\n",
       "    }\n",
       "</style>\n",
       "<table border=\"1\" class=\"dataframe\">\n",
       "  <thead>\n",
       "    <tr style=\"text-align: right;\">\n",
       "      <th></th>\n",
       "      <th>genre</th>\n",
       "      <th>title</th>\n",
       "    </tr>\n",
       "  </thead>\n",
       "  <tbody>\n",
       "    <tr>\n",
       "      <th>0</th>\n",
       "      <td>Drame</td>\n",
       "      <td>Apocalypse Now</td>\n",
       "    </tr>\n",
       "    <tr>\n",
       "      <th>1</th>\n",
       "      <td>Drame</td>\n",
       "      <td>A History of Violence</td>\n",
       "    </tr>\n",
       "    <tr>\n",
       "      <th>2</th>\n",
       "      <td>Drame</td>\n",
       "      <td>Match point</td>\n",
       "    </tr>\n",
       "    <tr>\n",
       "      <th>3</th>\n",
       "      <td>Drame</td>\n",
       "      <td>Le Secret de Brokeback Mountain</td>\n",
       "    </tr>\n",
       "    <tr>\n",
       "      <th>4</th>\n",
       "      <td>Drame</td>\n",
       "      <td>Breaking the Waves</td>\n",
       "    </tr>\n",
       "  </tbody>\n",
       "</table>\n",
       "</div>"
      ],
      "text/plain": [
       "   genre                            title\n",
       "0  Drame                   Apocalypse Now\n",
       "1  Drame            A History of Violence\n",
       "2  Drame                      Match point\n",
       "3  Drame  Le Secret de Brokeback Mountain\n",
       "4  Drame               Breaking the Waves"
      ]
     },
     "execution_count": 11,
     "metadata": {},
     "output_type": "execute_result"
    }
   ],
   "source": [
    "sql_query_01 = \"\"\"\n",
    "    SELECT genre , title\n",
    "    FROM movies\n",
    "    WHERE genre = \"Drame\"\n",
    "    \n",
    "\"\"\"\n",
    "\n",
    "results = pd.read_sql_query(sql_query_01, engine)\n",
    "results.head(5)"
   ]
  },
  {
   "cell_type": "code",
   "execution_count": 12,
   "metadata": {},
   "outputs": [
    {
     "data": {
      "text/plain": [
       "(83, 2)"
      ]
     },
     "execution_count": 12,
     "metadata": {},
     "output_type": "execute_result"
    }
   ],
   "source": [
    "results.shape"
   ]
  },
  {
   "cell_type": "code",
   "execution_count": 13,
   "metadata": {},
   "outputs": [
    {
     "data": {
      "text/plain": [
       "83"
      ]
     },
     "execution_count": 13,
     "metadata": {},
     "output_type": "execute_result"
    }
   ],
   "source": [
    "len(results)"
   ]
  },
  {
   "cell_type": "markdown",
   "metadata": {},
   "source": [
    "**Q02: Quels rôles a joué Bruce Willis et dans quels films (triés par ordre chronologique) ?**"
   ]
  },
  {
   "cell_type": "code",
   "execution_count": 14,
   "metadata": {},
   "outputs": [
    {
     "data": {
      "text/html": [
       "<div>\n",
       "<style scoped>\n",
       "    .dataframe tbody tr th:only-of-type {\n",
       "        vertical-align: middle;\n",
       "    }\n",
       "\n",
       "    .dataframe tbody tr th {\n",
       "        vertical-align: top;\n",
       "    }\n",
       "\n",
       "    .dataframe thead th {\n",
       "        text-align: right;\n",
       "    }\n",
       "</style>\n",
       "<table border=\"1\" class=\"dataframe\">\n",
       "  <thead>\n",
       "    <tr style=\"text-align: right;\">\n",
       "      <th></th>\n",
       "      <th>Titre</th>\n",
       "      <th>Année</th>\n",
       "      <th>Rôle</th>\n",
       "      <th>Nom</th>\n",
       "      <th>Prénom</th>\n",
       "    </tr>\n",
       "  </thead>\n",
       "  <tbody>\n",
       "    <tr>\n",
       "      <th>0</th>\n",
       "      <td>Piège de cristal</td>\n",
       "      <td>1988</td>\n",
       "      <td>John McClane</td>\n",
       "      <td>Willis</td>\n",
       "      <td>Bruce</td>\n",
       "    </tr>\n",
       "    <tr>\n",
       "      <th>1</th>\n",
       "      <td>58 minutes pour vivre</td>\n",
       "      <td>1990</td>\n",
       "      <td>John McClane</td>\n",
       "      <td>Willis</td>\n",
       "      <td>Bruce</td>\n",
       "    </tr>\n",
       "    <tr>\n",
       "      <th>2</th>\n",
       "      <td>Pulp Fiction</td>\n",
       "      <td>1994</td>\n",
       "      <td>Butch Coolidge</td>\n",
       "      <td>Willis</td>\n",
       "      <td>Bruce</td>\n",
       "    </tr>\n",
       "    <tr>\n",
       "      <th>3</th>\n",
       "      <td>Une Journée en enfer</td>\n",
       "      <td>1995</td>\n",
       "      <td>John McClane</td>\n",
       "      <td>Willis</td>\n",
       "      <td>Bruce</td>\n",
       "    </tr>\n",
       "    <tr>\n",
       "      <th>4</th>\n",
       "      <td>Die Hard 4 : Retour en enfer</td>\n",
       "      <td>2007</td>\n",
       "      <td>John McClane</td>\n",
       "      <td>Willis</td>\n",
       "      <td>Bruce</td>\n",
       "    </tr>\n",
       "  </tbody>\n",
       "</table>\n",
       "</div>"
      ],
      "text/plain": [
       "                          Titre  Année            Rôle     Nom Prénom\n",
       "0              Piège de cristal   1988    John McClane  Willis  Bruce\n",
       "1         58 minutes pour vivre   1990    John McClane  Willis  Bruce\n",
       "2                  Pulp Fiction   1994  Butch Coolidge  Willis  Bruce\n",
       "3          Une Journée en enfer   1995    John McClane  Willis  Bruce\n",
       "4  Die Hard 4 : Retour en enfer   2007    John McClane  Willis  Bruce"
      ]
     },
     "execution_count": 14,
     "metadata": {},
     "output_type": "execute_result"
    }
   ],
   "source": [
    "sql_query_02 = \"\"\"\n",
    "    SELECT title AS \"Titre\", year AS \"Année\", roles.character AS \"Rôle\", lastname AS \"Nom\", firstname AS \"Prénom\"\n",
    "    FROM movies\n",
    "    INNER JOIN roles ON movies.id = roles.movieId\n",
    "    INNER JOIN artists ON roles.actorId = artists.id\n",
    "    WHERE lastname = \"Willis\" AND firstname = \"Bruce\"\n",
    "    ORDER BY year;\n",
    "\"\"\"\n",
    "\n",
    "results = pd.read_sql_query(sql_query_02, engine)\n",
    "results.head()"
   ]
  },
  {
   "cell_type": "markdown",
   "metadata": {},
   "source": [
    "Q03: Qui est le réalisateur de Memento ?"
   ]
  },
  {
   "cell_type": "code",
   "execution_count": 15,
   "metadata": {},
   "outputs": [
    {
     "data": {
      "text/html": [
       "<div>\n",
       "<style scoped>\n",
       "    .dataframe tbody tr th:only-of-type {\n",
       "        vertical-align: middle;\n",
       "    }\n",
       "\n",
       "    .dataframe tbody tr th {\n",
       "        vertical-align: top;\n",
       "    }\n",
       "\n",
       "    .dataframe thead th {\n",
       "        text-align: right;\n",
       "    }\n",
       "</style>\n",
       "<table border=\"1\" class=\"dataframe\">\n",
       "  <thead>\n",
       "    <tr style=\"text-align: right;\">\n",
       "      <th></th>\n",
       "      <th>title</th>\n",
       "      <th>id</th>\n",
       "      <th>lastname</th>\n",
       "      <th>firstname</th>\n",
       "    </tr>\n",
       "  </thead>\n",
       "  <tbody>\n",
       "    <tr>\n",
       "      <th>0</th>\n",
       "      <td>Memento</td>\n",
       "      <td>525</td>\n",
       "      <td>Nolan</td>\n",
       "      <td>Christopher</td>\n",
       "    </tr>\n",
       "  </tbody>\n",
       "</table>\n",
       "</div>"
      ],
      "text/plain": [
       "     title   id lastname    firstname\n",
       "0  Memento  525    Nolan  Christopher"
      ]
     },
     "execution_count": 15,
     "metadata": {},
     "output_type": "execute_result"
    }
   ],
   "source": [
    "sql_query_00 = \"\"\"\n",
    "    SELECT movies.title, artists.id, artists.lastname, artists.firstname\n",
    "    FROM artists\n",
    "    LEFT JOIN movies ON artists.id = movies.directorId\n",
    "    WHERE artists.id = 525 AND movies.title = \"Memento\";\n",
    "\"\"\"\n",
    "\n",
    "results = pd.read_sql_query(sql_query_00, engine)\n",
    "results.head(5)"
   ]
  },
  {
   "cell_type": "markdown",
   "metadata": {},
   "source": [
    "**Q04: Qui a joué le rôle de Chewbacca et dans quels films ?**"
   ]
  },
  {
   "cell_type": "code",
   "execution_count": 16,
   "metadata": {},
   "outputs": [
    {
     "data": {
      "text/html": [
       "<div>\n",
       "<style scoped>\n",
       "    .dataframe tbody tr th:only-of-type {\n",
       "        vertical-align: middle;\n",
       "    }\n",
       "\n",
       "    .dataframe tbody tr th {\n",
       "        vertical-align: top;\n",
       "    }\n",
       "\n",
       "    .dataframe thead th {\n",
       "        text-align: right;\n",
       "    }\n",
       "</style>\n",
       "<table border=\"1\" class=\"dataframe\">\n",
       "  <thead>\n",
       "    <tr style=\"text-align: right;\">\n",
       "      <th></th>\n",
       "      <th>Titre</th>\n",
       "      <th>Rôle</th>\n",
       "      <th>Nom</th>\n",
       "      <th>Prénom</th>\n",
       "    </tr>\n",
       "  </thead>\n",
       "  <tbody>\n",
       "    <tr>\n",
       "      <th>0</th>\n",
       "      <td>La Guerre des étoiles</td>\n",
       "      <td>Chewbacca</td>\n",
       "      <td>Mayhew</td>\n",
       "      <td>Peter</td>\n",
       "    </tr>\n",
       "    <tr>\n",
       "      <th>1</th>\n",
       "      <td>L'Empire contre-attaque</td>\n",
       "      <td>Chewbacca</td>\n",
       "      <td>Mayhew</td>\n",
       "      <td>Peter</td>\n",
       "    </tr>\n",
       "    <tr>\n",
       "      <th>2</th>\n",
       "      <td>Le Retour du Jedi</td>\n",
       "      <td>Chewbacca</td>\n",
       "      <td>Mayhew</td>\n",
       "      <td>Peter</td>\n",
       "    </tr>\n",
       "    <tr>\n",
       "      <th>3</th>\n",
       "      <td>Star Wars : Le Réveil de la Force</td>\n",
       "      <td>Chewbacca</td>\n",
       "      <td>Mayhew</td>\n",
       "      <td>Peter</td>\n",
       "    </tr>\n",
       "    <tr>\n",
       "      <th>4</th>\n",
       "      <td>Star Wars : Les Derniers Jedi</td>\n",
       "      <td>Chewbacca</td>\n",
       "      <td>Suotamo</td>\n",
       "      <td>Joonas</td>\n",
       "    </tr>\n",
       "  </tbody>\n",
       "</table>\n",
       "</div>"
      ],
      "text/plain": [
       "                               Titre       Rôle      Nom  Prénom\n",
       "0              La Guerre des étoiles  Chewbacca   Mayhew   Peter\n",
       "1            L'Empire contre-attaque  Chewbacca   Mayhew   Peter\n",
       "2                  Le Retour du Jedi  Chewbacca   Mayhew   Peter\n",
       "3  Star Wars : Le Réveil de la Force  Chewbacca   Mayhew   Peter\n",
       "4      Star Wars : Les Derniers Jedi  Chewbacca  Suotamo  Joonas"
      ]
     },
     "execution_count": 16,
     "metadata": {},
     "output_type": "execute_result"
    }
   ],
   "source": [
    "sql_query_04 = \"\"\"\n",
    "    SELECT title AS \"Titre\", roles.character AS \"Rôle\", lastname AS \"Nom\", firstname AS \"Prénom\"\n",
    "    FROM roles\n",
    "    INNER JOIN artists ON roles.actorId = artists.id\n",
    "    INNER JOIN movies ON roles.movieId = movies.id\n",
    "    WHERE roles.character = \"Chewbacca\";\n",
    "\"\"\"\n",
    "\n",
    "results = pd.read_sql_query(sql_query_04, engine)\n",
    "results.head()"
   ]
  },
  {
   "cell_type": "markdown",
   "metadata": {},
   "source": [
    "**Q05: Dans quels films Bruce Willis a-t-il joué le role de John McClane ?** "
   ]
  },
  {
   "cell_type": "code",
   "execution_count": 17,
   "metadata": {},
   "outputs": [
    {
     "data": {
      "text/html": [
       "<div>\n",
       "<style scoped>\n",
       "    .dataframe tbody tr th:only-of-type {\n",
       "        vertical-align: middle;\n",
       "    }\n",
       "\n",
       "    .dataframe tbody tr th {\n",
       "        vertical-align: top;\n",
       "    }\n",
       "\n",
       "    .dataframe thead th {\n",
       "        text-align: right;\n",
       "    }\n",
       "</style>\n",
       "<table border=\"1\" class=\"dataframe\">\n",
       "  <thead>\n",
       "    <tr style=\"text-align: right;\">\n",
       "      <th></th>\n",
       "      <th>title</th>\n",
       "      <th>lastname</th>\n",
       "      <th>firstname</th>\n",
       "      <th>character</th>\n",
       "    </tr>\n",
       "  </thead>\n",
       "  <tbody>\n",
       "    <tr>\n",
       "      <th>0</th>\n",
       "      <td>Piège de cristal</td>\n",
       "      <td>Willis</td>\n",
       "      <td>Bruce</td>\n",
       "      <td>John McClane</td>\n",
       "    </tr>\n",
       "    <tr>\n",
       "      <th>1</th>\n",
       "      <td>Die Hard 4 : Retour en enfer</td>\n",
       "      <td>Willis</td>\n",
       "      <td>Bruce</td>\n",
       "      <td>John McClane</td>\n",
       "    </tr>\n",
       "    <tr>\n",
       "      <th>2</th>\n",
       "      <td>Une Journée en enfer</td>\n",
       "      <td>Willis</td>\n",
       "      <td>Bruce</td>\n",
       "      <td>John McClane</td>\n",
       "    </tr>\n",
       "    <tr>\n",
       "      <th>3</th>\n",
       "      <td>58 minutes pour vivre</td>\n",
       "      <td>Willis</td>\n",
       "      <td>Bruce</td>\n",
       "      <td>John McClane</td>\n",
       "    </tr>\n",
       "  </tbody>\n",
       "</table>\n",
       "</div>"
      ],
      "text/plain": [
       "                          title lastname firstname     character\n",
       "0              Piège de cristal   Willis     Bruce  John McClane\n",
       "1  Die Hard 4 : Retour en enfer   Willis     Bruce  John McClane\n",
       "2          Une Journée en enfer   Willis     Bruce  John McClane\n",
       "3         58 minutes pour vivre   Willis     Bruce  John McClane"
      ]
     },
     "execution_count": 17,
     "metadata": {},
     "output_type": "execute_result"
    }
   ],
   "source": [
    "sql_query_05 = \"\"\"\n",
    "    SELECT title, lastname, firstname, roles.character\n",
    "    FROM movies\n",
    "    INNER JOIN roles ON movies.id = roles.movieId\n",
    "    INNER JOIN artists ON roles.actorId = artists.id\n",
    "    WHERE lastname = \"Willis\" AND firstname = \"Bruce\" AND     \n",
    "    roles.character = \"John McClane\"\n",
    "\"\"\"\n",
    "\n",
    "results = pd.read_sql_query(sql_query_05, engine)\n",
    "results.head(5)"
   ]
  },
  {
   "cell_type": "markdown",
   "metadata": {},
   "source": [
    "**Q06: Quels sont les acteurs de 'Sueurs froides' ?**"
   ]
  },
  {
   "cell_type": "code",
   "execution_count": 18,
   "metadata": {},
   "outputs": [
    {
     "data": {
      "text/html": [
       "<div>\n",
       "<style scoped>\n",
       "    .dataframe tbody tr th:only-of-type {\n",
       "        vertical-align: middle;\n",
       "    }\n",
       "\n",
       "    .dataframe tbody tr th {\n",
       "        vertical-align: top;\n",
       "    }\n",
       "\n",
       "    .dataframe thead th {\n",
       "        text-align: right;\n",
       "    }\n",
       "</style>\n",
       "<table border=\"1\" class=\"dataframe\">\n",
       "  <thead>\n",
       "    <tr style=\"text-align: right;\">\n",
       "      <th></th>\n",
       "      <th>Titre</th>\n",
       "      <th>Nom</th>\n",
       "      <th>Prénom</th>\n",
       "      <th>Rôle</th>\n",
       "    </tr>\n",
       "  </thead>\n",
       "  <tbody>\n",
       "    <tr>\n",
       "      <th>0</th>\n",
       "      <td>Sueurs froides</td>\n",
       "      <td>Stewart</td>\n",
       "      <td>James</td>\n",
       "      <td>Det. John 'Scottie' Ferguson</td>\n",
       "    </tr>\n",
       "    <tr>\n",
       "      <th>1</th>\n",
       "      <td>Sueurs froides</td>\n",
       "      <td>Novak</td>\n",
       "      <td>Kim</td>\n",
       "      <td>Madeleine Elster / Judy Barton</td>\n",
       "    </tr>\n",
       "    <tr>\n",
       "      <th>2</th>\n",
       "      <td>Sueurs froides</td>\n",
       "      <td>Bel Geddes</td>\n",
       "      <td>Barbara</td>\n",
       "      <td>Marjorie 'Midge' Wood</td>\n",
       "    </tr>\n",
       "  </tbody>\n",
       "</table>\n",
       "</div>"
      ],
      "text/plain": [
       "            Titre         Nom   Prénom                            Rôle\n",
       "0  Sueurs froides     Stewart    James    Det. John 'Scottie' Ferguson\n",
       "1  Sueurs froides       Novak      Kim  Madeleine Elster / Judy Barton\n",
       "2  Sueurs froides  Bel Geddes  Barbara           Marjorie 'Midge' Wood"
      ]
     },
     "execution_count": 18,
     "metadata": {},
     "output_type": "execute_result"
    }
   ],
   "source": [
    "sql_query_06 = \"\"\"\n",
    "    SELECT title AS \"Titre\", lastname AS \"Nom\", firstname AS \"Prénom\", roles.character AS \"Rôle\"\n",
    "    FROM movies\n",
    "    INNER JOIN roles ON movies.id = roles.movieId\n",
    "    INNER JOIN artists ON roles.actorId = artists.id\n",
    "    WHERE title = \"Sueurs froides\";\n",
    "\"\"\"\n",
    "\n",
    "results = pd.read_sql_query(sql_query_06, engine)\n",
    "results.head()"
   ]
  },
  {
   "cell_type": "markdown",
   "metadata": {},
   "source": [
    "**Q07: Quels sont les films dont le réalisateur est Tim Burton, et l’un des acteurs Jonnhy Depp ?**"
   ]
  },
  {
   "cell_type": "code",
   "execution_count": 19,
   "metadata": {},
   "outputs": [
    {
     "data": {
      "text/html": [
       "<div>\n",
       "<style scoped>\n",
       "    .dataframe tbody tr th:only-of-type {\n",
       "        vertical-align: middle;\n",
       "    }\n",
       "\n",
       "    .dataframe tbody tr th {\n",
       "        vertical-align: top;\n",
       "    }\n",
       "\n",
       "    .dataframe thead th {\n",
       "        text-align: right;\n",
       "    }\n",
       "</style>\n",
       "<table border=\"1\" class=\"dataframe\">\n",
       "  <thead>\n",
       "    <tr style=\"text-align: right;\">\n",
       "      <th></th>\n",
       "      <th>title</th>\n",
       "      <th>lastname</th>\n",
       "      <th>firstname</th>\n",
       "    </tr>\n",
       "  </thead>\n",
       "  <tbody>\n",
       "    <tr>\n",
       "      <th>0</th>\n",
       "      <td>Sleepy Hollow, La Légende du cavalier sans tête</td>\n",
       "      <td>Burton</td>\n",
       "      <td>Tim</td>\n",
       "    </tr>\n",
       "    <tr>\n",
       "      <th>1</th>\n",
       "      <td>Sleepy Hollow, La Légende du cavalier sans tête</td>\n",
       "      <td>Depp</td>\n",
       "      <td>Johnny</td>\n",
       "    </tr>\n",
       "  </tbody>\n",
       "</table>\n",
       "</div>"
      ],
      "text/plain": [
       "                                             title lastname firstname\n",
       "0  Sleepy Hollow, La Légende du cavalier sans tête   Burton       Tim\n",
       "1  Sleepy Hollow, La Légende du cavalier sans tête     Depp    Johnny"
      ]
     },
     "execution_count": 19,
     "metadata": {},
     "output_type": "execute_result"
    }
   ],
   "source": [
    "sql_query_07 = \"\"\"\n",
    "    SELECT title, lastname, firstname\n",
    "        FROM movies\n",
    "        INNER JOIN artists ON movies.directorId = artists.id\n",
    "        WHERE lastname = \"Burton\"\n",
    "    UNION\n",
    "    SELECT title, lastname, firstname\n",
    "        FROM movies\n",
    "        INNER JOIN roles ON movies.id = roles.movieId\n",
    "        INNER JOIN artists ON roles.actorId = artists.id\n",
    "        WHERE lastname = \"Depp\"\n",
    "\"\"\"\n",
    "\n",
    "results = pd.read_sql_query(sql_query_07, engine)\n",
    "results.head()"
   ]
  },
  {
   "cell_type": "markdown",
   "metadata": {},
   "source": [
    "**Q08: Quels sont les films dans lesquels a joué Woody Allen ? Donnez aussi le rôle.**"
   ]
  },
  {
   "cell_type": "code",
   "execution_count": 20,
   "metadata": {},
   "outputs": [
    {
     "data": {
      "text/html": [
       "<div>\n",
       "<style scoped>\n",
       "    .dataframe tbody tr th:only-of-type {\n",
       "        vertical-align: middle;\n",
       "    }\n",
       "\n",
       "    .dataframe tbody tr th {\n",
       "        vertical-align: top;\n",
       "    }\n",
       "\n",
       "    .dataframe thead th {\n",
       "        text-align: right;\n",
       "    }\n",
       "</style>\n",
       "<table border=\"1\" class=\"dataframe\">\n",
       "  <thead>\n",
       "    <tr style=\"text-align: right;\">\n",
       "      <th></th>\n",
       "      <th>Titre</th>\n",
       "      <th>Nom</th>\n",
       "      <th>Prénom</th>\n",
       "      <th>Rôle</th>\n",
       "    </tr>\n",
       "  </thead>\n",
       "  <tbody>\n",
       "    <tr>\n",
       "      <th>0</th>\n",
       "      <td>Scoop</td>\n",
       "      <td>Allen</td>\n",
       "      <td>Woody</td>\n",
       "      <td>Sid Waterman</td>\n",
       "    </tr>\n",
       "    <tr>\n",
       "      <th>1</th>\n",
       "      <td>Manhattan</td>\n",
       "      <td>Allen</td>\n",
       "      <td>Woody</td>\n",
       "      <td>Isaac Davis</td>\n",
       "    </tr>\n",
       "    <tr>\n",
       "      <th>2</th>\n",
       "      <td>Annie Hall</td>\n",
       "      <td>Allen</td>\n",
       "      <td>Woody</td>\n",
       "      <td>Alvy Singer</td>\n",
       "    </tr>\n",
       "    <tr>\n",
       "      <th>3</th>\n",
       "      <td>Maris et femmes</td>\n",
       "      <td>Allen</td>\n",
       "      <td>Woody</td>\n",
       "      <td>Prof. Gabriel 'Gabe' Roth</td>\n",
       "    </tr>\n",
       "  </tbody>\n",
       "</table>\n",
       "</div>"
      ],
      "text/plain": [
       "             Titre    Nom Prénom                       Rôle\n",
       "0            Scoop  Allen  Woody               Sid Waterman\n",
       "1        Manhattan  Allen  Woody                Isaac Davis\n",
       "2       Annie Hall  Allen  Woody                Alvy Singer\n",
       "3  Maris et femmes  Allen  Woody  Prof. Gabriel 'Gabe' Roth"
      ]
     },
     "execution_count": 20,
     "metadata": {},
     "output_type": "execute_result"
    }
   ],
   "source": [
    "sql_query_08 = \"\"\"\n",
    "    SELECT title AS \"Titre\", lastname AS \"Nom\", firstname AS \"Prénom\", roles.character AS \"Rôle\"\n",
    "    FROM movies\n",
    "    INNER JOIN roles ON movies.id = roles.movieId\n",
    "    INNER JOIN artists ON roles.actorId = artists.id\n",
    "    WHERE lastname = \"Allen\" AND firstname = \"Woody\"\n",
    "\"\"\"\n",
    "\n",
    "results = pd.read_sql_query(sql_query_08, engine)\n",
    "results.head(5)"
   ]
  },
  {
   "cell_type": "markdown",
   "metadata": {},
   "source": [
    "**Q09: Quel metteur en scène a tourné dans ses propres films ? Donnez le nom, le rôle et le titre des films en question.**"
   ]
  },
  {
   "cell_type": "code",
   "execution_count": 21,
   "metadata": {},
   "outputs": [
    {
     "data": {
      "text/html": [
       "<div>\n",
       "<style scoped>\n",
       "    .dataframe tbody tr th:only-of-type {\n",
       "        vertical-align: middle;\n",
       "    }\n",
       "\n",
       "    .dataframe tbody tr th {\n",
       "        vertical-align: top;\n",
       "    }\n",
       "\n",
       "    .dataframe thead th {\n",
       "        text-align: right;\n",
       "    }\n",
       "</style>\n",
       "<table border=\"1\" class=\"dataframe\">\n",
       "  <thead>\n",
       "    <tr style=\"text-align: right;\">\n",
       "      <th></th>\n",
       "      <th>Nom</th>\n",
       "      <th>Prénom</th>\n",
       "      <th>Titre</th>\n",
       "      <th>Rôle</th>\n",
       "    </tr>\n",
       "  </thead>\n",
       "  <tbody>\n",
       "    <tr>\n",
       "      <th>0</th>\n",
       "      <td>Eastwood</td>\n",
       "      <td>Clint</td>\n",
       "      <td>Impitoyable</td>\n",
       "      <td>Bill Munny</td>\n",
       "    </tr>\n",
       "    <tr>\n",
       "      <th>1</th>\n",
       "      <td>Tarantino</td>\n",
       "      <td>Quentin</td>\n",
       "      <td>Reservoir Dogs</td>\n",
       "      <td>Mr. Brown</td>\n",
       "    </tr>\n",
       "    <tr>\n",
       "      <th>2</th>\n",
       "      <td>Allen</td>\n",
       "      <td>Woody</td>\n",
       "      <td>Scoop</td>\n",
       "      <td>Sid Waterman</td>\n",
       "    </tr>\n",
       "    <tr>\n",
       "      <th>3</th>\n",
       "      <td>Tarantino</td>\n",
       "      <td>Quentin</td>\n",
       "      <td>Pulp Fiction</td>\n",
       "      <td>Jimmie Dimmick</td>\n",
       "    </tr>\n",
       "    <tr>\n",
       "      <th>4</th>\n",
       "      <td>Allen</td>\n",
       "      <td>Woody</td>\n",
       "      <td>Manhattan</td>\n",
       "      <td>Isaac Davis</td>\n",
       "    </tr>\n",
       "  </tbody>\n",
       "</table>\n",
       "</div>"
      ],
      "text/plain": [
       "         Nom   Prénom           Titre            Rôle\n",
       "0   Eastwood    Clint     Impitoyable      Bill Munny\n",
       "1  Tarantino  Quentin  Reservoir Dogs       Mr. Brown\n",
       "2      Allen    Woody           Scoop    Sid Waterman\n",
       "3  Tarantino  Quentin    Pulp Fiction  Jimmie Dimmick\n",
       "4      Allen    Woody       Manhattan     Isaac Davis"
      ]
     },
     "execution_count": 21,
     "metadata": {},
     "output_type": "execute_result"
    }
   ],
   "source": [
    "sql_query_09 = \"\"\"\n",
    "    SELECT lastname AS \"Nom\", firstname AS \"Prénom\", title AS \"Titre\", roles.character AS \"Rôle\"\n",
    "    FROM movies\n",
    "    INNER JOIN roles ON movies.id = roles.movieId\n",
    "    INNER JOIN artists ON roles.actorId = artists.id\n",
    "    WHERE movies.directorId = roles.actorId;\n",
    "\"\"\"\n",
    "\n",
    "results = pd.read_sql_query(sql_query_09, engine)\n",
    "results.head()"
   ]
  },
  {
   "cell_type": "markdown",
   "metadata": {},
   "source": [
    "**Q10: Quels sont les films de Quentin Tarantino dans lesquels il n’a pas joué**"
   ]
  },
  {
   "cell_type": "code",
   "execution_count": 22,
   "metadata": {},
   "outputs": [
    {
     "data": {
      "text/html": [
       "<div>\n",
       "<style scoped>\n",
       "    .dataframe tbody tr th:only-of-type {\n",
       "        vertical-align: middle;\n",
       "    }\n",
       "\n",
       "    .dataframe tbody tr th {\n",
       "        vertical-align: top;\n",
       "    }\n",
       "\n",
       "    .dataframe thead th {\n",
       "        text-align: right;\n",
       "    }\n",
       "</style>\n",
       "<table border=\"1\" class=\"dataframe\">\n",
       "  <thead>\n",
       "    <tr style=\"text-align: right;\">\n",
       "      <th></th>\n",
       "      <th>Titre</th>\n",
       "      <th>Nom</th>\n",
       "      <th>Prénom</th>\n",
       "      <th>Rôle</th>\n",
       "    </tr>\n",
       "  </thead>\n",
       "  <tbody>\n",
       "    <tr>\n",
       "      <th>0</th>\n",
       "      <td>Reservoir Dogs</td>\n",
       "      <td>Tarantino</td>\n",
       "      <td>Quentin</td>\n",
       "      <td>Mr. Brown</td>\n",
       "    </tr>\n",
       "    <tr>\n",
       "      <th>1</th>\n",
       "      <td>Pulp Fiction</td>\n",
       "      <td>Tarantino</td>\n",
       "      <td>Quentin</td>\n",
       "      <td>Jimmie Dimmick</td>\n",
       "    </tr>\n",
       "  </tbody>\n",
       "</table>\n",
       "</div>"
      ],
      "text/plain": [
       "            Titre        Nom   Prénom            Rôle\n",
       "0  Reservoir Dogs  Tarantino  Quentin       Mr. Brown\n",
       "1    Pulp Fiction  Tarantino  Quentin  Jimmie Dimmick"
      ]
     },
     "execution_count": 22,
     "metadata": {},
     "output_type": "execute_result"
    }
   ],
   "source": [
    "sql_query_10 = \"\"\"\n",
    "    SELECT title AS \"Titre\", lastname AS \"Nom\", firstname AS \"Prénom\", roles.character AS \"Rôle\"\n",
    "    FROM movies\n",
    "    INNER JOIN roles ON movies.id = roles.movieId\n",
    "    INNER JOIN artists ON roles.actorId = artists.id\n",
    "    WHERE lastname = \"Tarantino\" AND firstname = \"Quentin\"\n",
    "\"\"\"\n",
    "\n",
    "results = pd.read_sql_query(sql_query_10, engine)\n",
    "results.head(5)"
   ]
  },
  {
   "cell_type": "markdown",
   "metadata": {},
   "source": [
    "**Q11: Quel metteur en scène a tourné en tant qu’acteur ? Donner le nom, le rôle et le titre des films dans lesquels cet artiste a joué.**"
   ]
  },
  {
   "cell_type": "code",
   "execution_count": 23,
   "metadata": {},
   "outputs": [
    {
     "data": {
      "text/html": [
       "<div>\n",
       "<style scoped>\n",
       "    .dataframe tbody tr th:only-of-type {\n",
       "        vertical-align: middle;\n",
       "    }\n",
       "\n",
       "    .dataframe tbody tr th {\n",
       "        vertical-align: top;\n",
       "    }\n",
       "\n",
       "    .dataframe thead th {\n",
       "        text-align: right;\n",
       "    }\n",
       "</style>\n",
       "<table border=\"1\" class=\"dataframe\">\n",
       "  <thead>\n",
       "    <tr style=\"text-align: right;\">\n",
       "      <th></th>\n",
       "      <th>Nom</th>\n",
       "      <th>Role</th>\n",
       "      <th>Titre du film</th>\n",
       "      <th>ID Acteur</th>\n",
       "      <th>ID Metteur en scène</th>\n",
       "    </tr>\n",
       "  </thead>\n",
       "  <tbody>\n",
       "    <tr>\n",
       "      <th>0</th>\n",
       "      <td>Eastwood</td>\n",
       "      <td>Bill Munny</td>\n",
       "      <td>Impitoyable</td>\n",
       "      <td>190</td>\n",
       "      <td>190</td>\n",
       "    </tr>\n",
       "    <tr>\n",
       "      <th>1</th>\n",
       "      <td>Tarantino</td>\n",
       "      <td>Mr. Brown</td>\n",
       "      <td>Reservoir Dogs</td>\n",
       "      <td>138</td>\n",
       "      <td>138</td>\n",
       "    </tr>\n",
       "    <tr>\n",
       "      <th>2</th>\n",
       "      <td>Allen</td>\n",
       "      <td>Sid Waterman</td>\n",
       "      <td>Scoop</td>\n",
       "      <td>1243</td>\n",
       "      <td>1243</td>\n",
       "    </tr>\n",
       "    <tr>\n",
       "      <th>3</th>\n",
       "      <td>Tarantino</td>\n",
       "      <td>Jimmie Dimmick</td>\n",
       "      <td>Pulp Fiction</td>\n",
       "      <td>138</td>\n",
       "      <td>138</td>\n",
       "    </tr>\n",
       "    <tr>\n",
       "      <th>4</th>\n",
       "      <td>Allen</td>\n",
       "      <td>Isaac Davis</td>\n",
       "      <td>Manhattan</td>\n",
       "      <td>1243</td>\n",
       "      <td>1243</td>\n",
       "    </tr>\n",
       "  </tbody>\n",
       "</table>\n",
       "</div>"
      ],
      "text/plain": [
       "         Nom            Role   Titre du film  ID Acteur  ID Metteur en scène\n",
       "0   Eastwood      Bill Munny     Impitoyable        190                  190\n",
       "1  Tarantino       Mr. Brown  Reservoir Dogs        138                  138\n",
       "2      Allen    Sid Waterman           Scoop       1243                 1243\n",
       "3  Tarantino  Jimmie Dimmick    Pulp Fiction        138                  138\n",
       "4      Allen     Isaac Davis       Manhattan       1243                 1243"
      ]
     },
     "execution_count": 23,
     "metadata": {},
     "output_type": "execute_result"
    }
   ],
   "source": [
    "sql_query_11 = \"\"\"\n",
    "    SELECT lastname as \"Nom\", roles.character as \"Role\", title as \"Titre du film\", roles.actorId as \"ID Acteur\", movies.directorId as \"ID Metteur en scène\" \n",
    "    FROM movies\n",
    "    INNER JOIN artists ON movies.directorId = artists.id\n",
    "    INNER JOIN roles ON movies.id = roles.movieId\n",
    "    WHERE movies.directorId = roles.actorId;\n",
    "\"\"\"\n",
    "\n",
    "results = pd.read_sql_query(sql_query_11, engine)\n",
    "results.head()"
   ]
  },
  {
   "cell_type": "markdown",
   "metadata": {},
   "source": [
    "**Q12: Quels sont les films de Hitchcock sans James Stewart**"
   ]
  },
  {
   "cell_type": "code",
   "execution_count": 24,
   "metadata": {},
   "outputs": [
    {
     "data": {
      "text/html": [
       "<div>\n",
       "<style scoped>\n",
       "    .dataframe tbody tr th:only-of-type {\n",
       "        vertical-align: middle;\n",
       "    }\n",
       "\n",
       "    .dataframe tbody tr th {\n",
       "        vertical-align: top;\n",
       "    }\n",
       "\n",
       "    .dataframe thead th {\n",
       "        text-align: right;\n",
       "    }\n",
       "</style>\n",
       "<table border=\"1\" class=\"dataframe\">\n",
       "  <thead>\n",
       "    <tr style=\"text-align: right;\">\n",
       "      <th></th>\n",
       "      <th>Titre</th>\n",
       "      <th>Nom</th>\n",
       "      <th>Prénom</th>\n",
       "    </tr>\n",
       "  </thead>\n",
       "  <tbody>\n",
       "    <tr>\n",
       "      <th>0</th>\n",
       "      <td>La Mort aux trousses</td>\n",
       "      <td>Hitchcock</td>\n",
       "      <td>Alfred</td>\n",
       "    </tr>\n",
       "    <tr>\n",
       "      <th>1</th>\n",
       "      <td>Rebecca</td>\n",
       "      <td>Hitchcock</td>\n",
       "      <td>Alfred</td>\n",
       "    </tr>\n",
       "    <tr>\n",
       "      <th>2</th>\n",
       "      <td>Les Enchaînés</td>\n",
       "      <td>Hitchcock</td>\n",
       "      <td>Alfred</td>\n",
       "    </tr>\n",
       "    <tr>\n",
       "      <th>3</th>\n",
       "      <td>Psychose</td>\n",
       "      <td>Hitchcock</td>\n",
       "      <td>Alfred</td>\n",
       "    </tr>\n",
       "    <tr>\n",
       "      <th>4</th>\n",
       "      <td>Les Oiseaux</td>\n",
       "      <td>Hitchcock</td>\n",
       "      <td>Alfred</td>\n",
       "    </tr>\n",
       "    <tr>\n",
       "      <th>5</th>\n",
       "      <td>L'Inconnu du Nord-Express</td>\n",
       "      <td>Hitchcock</td>\n",
       "      <td>Alfred</td>\n",
       "    </tr>\n",
       "    <tr>\n",
       "      <th>6</th>\n",
       "      <td>Soupçons</td>\n",
       "      <td>Hitchcock</td>\n",
       "      <td>Alfred</td>\n",
       "    </tr>\n",
       "  </tbody>\n",
       "</table>\n",
       "</div>"
      ],
      "text/plain": [
       "                       Titre        Nom  Prénom\n",
       "0       La Mort aux trousses  Hitchcock  Alfred\n",
       "1                    Rebecca  Hitchcock  Alfred\n",
       "2              Les Enchaînés  Hitchcock  Alfred\n",
       "3                   Psychose  Hitchcock  Alfred\n",
       "4                Les Oiseaux  Hitchcock  Alfred\n",
       "5  L'Inconnu du Nord-Express  Hitchcock  Alfred\n",
       "6                   Soupçons  Hitchcock  Alfred"
      ]
     },
     "execution_count": 24,
     "metadata": {},
     "output_type": "execute_result"
    }
   ],
   "source": [
    "sql_query_12 = \"\"\"\n",
    "    SELECT a.title AS \"Titre\", lastname AS \"Nom\", firstname AS \"Prénom\"\n",
    "    FROM movies AS a\n",
    "    INNER JOIN artists ON a.directorId = artists.id\n",
    "    WHERE lastname = \"Hitchcock\"\n",
    "    AND title NOT IN (\n",
    "      SELECT b.title \n",
    "      FROM movies AS b\n",
    "      INNER JOIN roles ON b.id = roles.movieId\n",
    "      INNER JOIN artists ON roles.actorId = artists.id\n",
    "      WHERE lastname = \"Stewart\")\n",
    "\"\"\"\n",
    "\n",
    "results = pd.read_sql_query(sql_query_12, engine)\n",
    "results.head(10)"
   ]
  },
  {
   "cell_type": "markdown",
   "metadata": {},
   "source": [
    "**Q13: Quel est la filmographie de James Stewart ?**"
   ]
  },
  {
   "cell_type": "code",
   "execution_count": 25,
   "metadata": {},
   "outputs": [
    {
     "data": {
      "text/html": [
       "<div>\n",
       "<style scoped>\n",
       "    .dataframe tbody tr th:only-of-type {\n",
       "        vertical-align: middle;\n",
       "    }\n",
       "\n",
       "    .dataframe tbody tr th {\n",
       "        vertical-align: top;\n",
       "    }\n",
       "\n",
       "    .dataframe thead th {\n",
       "        text-align: right;\n",
       "    }\n",
       "</style>\n",
       "<table border=\"1\" class=\"dataframe\">\n",
       "  <thead>\n",
       "    <tr style=\"text-align: right;\">\n",
       "      <th></th>\n",
       "      <th>Nom</th>\n",
       "      <th>Prénom</th>\n",
       "      <th>Titre</th>\n",
       "    </tr>\n",
       "  </thead>\n",
       "  <tbody>\n",
       "    <tr>\n",
       "      <th>0</th>\n",
       "      <td>Stewart</td>\n",
       "      <td>James</td>\n",
       "      <td>Sueurs froides</td>\n",
       "    </tr>\n",
       "    <tr>\n",
       "      <th>1</th>\n",
       "      <td>Stewart</td>\n",
       "      <td>James</td>\n",
       "      <td>Fenêtre sur cour</td>\n",
       "    </tr>\n",
       "    <tr>\n",
       "      <th>2</th>\n",
       "      <td>Stewart</td>\n",
       "      <td>James</td>\n",
       "      <td>L'homme qui en savait trop</td>\n",
       "    </tr>\n",
       "  </tbody>\n",
       "</table>\n",
       "</div>"
      ],
      "text/plain": [
       "       Nom Prénom                       Titre\n",
       "0  Stewart  James              Sueurs froides\n",
       "1  Stewart  James            Fenêtre sur cour\n",
       "2  Stewart  James  L'homme qui en savait trop"
      ]
     },
     "execution_count": 25,
     "metadata": {},
     "output_type": "execute_result"
    }
   ],
   "source": [
    "sql_query_13 = \"\"\"\n",
    "    SELECT lastname AS \"Nom\", firstname AS \"Prénom\", title AS \"Titre\"\n",
    "    FROM movies\n",
    "    INNER JOIN roles ON movies.id = roles.movieId\n",
    "    INNER JOIN artists ON roles.actorId = artists.id\n",
    "    WHERE lastname = \"Stewart\" AND firstname = \"James\";\n",
    "\"\"\"\n",
    "\n",
    "results = pd.read_sql_query(sql_query_13, engine)\n",
    "results.head()"
   ]
  },
  {
   "cell_type": "markdown",
   "metadata": {},
   "source": [
    "**Q14: Quels sont les films sans rôle (acteurs) ?**"
   ]
  },
  {
   "cell_type": "code",
   "execution_count": 26,
   "metadata": {},
   "outputs": [
    {
     "data": {
      "text/html": [
       "<div>\n",
       "<style scoped>\n",
       "    .dataframe tbody tr th:only-of-type {\n",
       "        vertical-align: middle;\n",
       "    }\n",
       "\n",
       "    .dataframe tbody tr th {\n",
       "        vertical-align: top;\n",
       "    }\n",
       "\n",
       "    .dataframe thead th {\n",
       "        text-align: right;\n",
       "    }\n",
       "</style>\n",
       "<table border=\"1\" class=\"dataframe\">\n",
       "  <thead>\n",
       "    <tr style=\"text-align: right;\">\n",
       "      <th></th>\n",
       "      <th>title</th>\n",
       "    </tr>\n",
       "  </thead>\n",
       "  <tbody>\n",
       "  </tbody>\n",
       "</table>\n",
       "</div>"
      ],
      "text/plain": [
       "Empty DataFrame\n",
       "Columns: [title]\n",
       "Index: []"
      ]
     },
     "execution_count": 26,
     "metadata": {},
     "output_type": "execute_result"
    }
   ],
   "source": [
    "sql_query_14 = \"\"\"\n",
    "    SELECT title\n",
    "    FROM (\n",
    "    SELECT title, COUNT(roles.movieId) AS compteur\n",
    "    FROM movies\n",
    "    INNER JOIN roles ON movies.id = roles.movieId\n",
    "    GROUP BY roles.movieId) AS compteur\n",
    "    WHERE compteur.compteur = 0;\n",
    "\"\"\"\n",
    "\n",
    "results = pd.read_sql_query(sql_query_14, engine)\n",
    "results.head()"
   ]
  },
  {
   "cell_type": "markdown",
   "metadata": {},
   "source": [
    "On n'a aucun résultat mais ce n'est pas une erreur. La base de données n'a tout simplement pas de film sans aucun acteur. Pour le prouver, on peut modifier la commande en demandant un autre nombre d'acteurs. Dans les requêtes libres détaillées plus loin, on a cherché le nombre d'acteurs listés par film. On sait que Pulp Fiction en a le plus : 12. Donc si avec notre compteur on cherche les films ayant exactement 12 acteurs listés, on devrait trouver un seul résultat, Pulp Fiction. C'est bien le cas donc la requête est bonne."
   ]
  },
  {
   "cell_type": "markdown",
   "metadata": {},
   "source": [
    "**Q15: Combien d'acteurs n’ont jamais réalisé de film ?** "
   ]
  },
  {
   "cell_type": "code",
   "execution_count": 27,
   "metadata": {},
   "outputs": [
    {
     "data": {
      "text/html": [
       "<div>\n",
       "<style scoped>\n",
       "    .dataframe tbody tr th:only-of-type {\n",
       "        vertical-align: middle;\n",
       "    }\n",
       "\n",
       "    .dataframe tbody tr th {\n",
       "        vertical-align: top;\n",
       "    }\n",
       "\n",
       "    .dataframe thead th {\n",
       "        text-align: right;\n",
       "    }\n",
       "</style>\n",
       "<table border=\"1\" class=\"dataframe\">\n",
       "  <thead>\n",
       "    <tr style=\"text-align: right;\">\n",
       "      <th></th>\n",
       "      <th>id</th>\n",
       "      <th>Nom</th>\n",
       "      <th>Prénom</th>\n",
       "    </tr>\n",
       "  </thead>\n",
       "  <tbody>\n",
       "    <tr>\n",
       "      <th>0</th>\n",
       "      <td>2</td>\n",
       "      <td>Hamill</td>\n",
       "      <td>Mark</td>\n",
       "    </tr>\n",
       "    <tr>\n",
       "      <th>1</th>\n",
       "      <td>3</td>\n",
       "      <td>Ford</td>\n",
       "      <td>Harrison</td>\n",
       "    </tr>\n",
       "    <tr>\n",
       "      <th>2</th>\n",
       "      <td>4</td>\n",
       "      <td>Fisher</td>\n",
       "      <td>Carrie</td>\n",
       "    </tr>\n",
       "    <tr>\n",
       "      <th>3</th>\n",
       "      <td>5</td>\n",
       "      <td>Cushing</td>\n",
       "      <td>Peter</td>\n",
       "    </tr>\n",
       "    <tr>\n",
       "      <th>4</th>\n",
       "      <td>6</td>\n",
       "      <td>Daniels</td>\n",
       "      <td>Anthony</td>\n",
       "    </tr>\n",
       "  </tbody>\n",
       "</table>\n",
       "</div>"
      ],
      "text/plain": [
       "   id      Nom    Prénom\n",
       "0   2   Hamill      Mark\n",
       "1   3     Ford  Harrison\n",
       "2   4   Fisher    Carrie\n",
       "3   5  Cushing     Peter\n",
       "4   6  Daniels   Anthony"
      ]
     },
     "execution_count": 27,
     "metadata": {},
     "output_type": "execute_result"
    }
   ],
   "source": [
    "sql_query_15 = \"\"\"\n",
    "    SELECT DISTINCT artists.id AS \"id\", lastname as \"Nom\", firstname AS \"Prénom\"\n",
    "    FROM movies\n",
    "    INNER JOIN roles ON movies.id = roles.movieId\n",
    "    INNER JOIN artists ON roles.actorId = artists.id\n",
    "    WHERE artists.id NOT IN (\n",
    "      SELECT DISTINCT artists.id\n",
    "      FROM movies\n",
    "      INNER JOIN artists ON movies.directorId = artists.id)\n",
    "    ORDER BY artists.id;\n",
    "\"\"\"\n",
    "\n",
    "results = pd.read_sql_query(sql_query_15, engine)\n",
    "results.head()\n"
   ]
  },
  {
   "cell_type": "code",
   "execution_count": null,
   "metadata": {},
   "outputs": [],
   "source": [
    "len(results)"
   ]
  },
  {
   "cell_type": "markdown",
   "metadata": {},
   "source": [
    "**Q16: Donnez les noms et prénoms des 10 réalisateurs les plus prolifiques, ainsi que le nombre de films qu’ils ont tournés ?**"
   ]
  },
  {
   "cell_type": "code",
   "execution_count": 28,
   "metadata": {},
   "outputs": [
    {
     "data": {
      "text/html": [
       "<div>\n",
       "<style scoped>\n",
       "    .dataframe tbody tr th:only-of-type {\n",
       "        vertical-align: middle;\n",
       "    }\n",
       "\n",
       "    .dataframe tbody tr th {\n",
       "        vertical-align: top;\n",
       "    }\n",
       "\n",
       "    .dataframe thead th {\n",
       "        text-align: right;\n",
       "    }\n",
       "</style>\n",
       "<table border=\"1\" class=\"dataframe\">\n",
       "  <thead>\n",
       "    <tr style=\"text-align: right;\">\n",
       "      <th></th>\n",
       "      <th>Nom</th>\n",
       "      <th>Prénom</th>\n",
       "      <th>Nombre de films</th>\n",
       "    </tr>\n",
       "  </thead>\n",
       "  <tbody>\n",
       "    <tr>\n",
       "      <th>0</th>\n",
       "      <td>Spielberg</td>\n",
       "      <td>Steven</td>\n",
       "      <td>13</td>\n",
       "    </tr>\n",
       "    <tr>\n",
       "      <th>1</th>\n",
       "      <td>Hitchcock</td>\n",
       "      <td>Alfred</td>\n",
       "      <td>10</td>\n",
       "    </tr>\n",
       "    <tr>\n",
       "      <th>2</th>\n",
       "      <td>Allen</td>\n",
       "      <td>Woody</td>\n",
       "      <td>8</td>\n",
       "    </tr>\n",
       "    <tr>\n",
       "      <th>3</th>\n",
       "      <td>Tarantino</td>\n",
       "      <td>Quentin</td>\n",
       "      <td>7</td>\n",
       "    </tr>\n",
       "    <tr>\n",
       "      <th>4</th>\n",
       "      <td>Kubrick</td>\n",
       "      <td>Stanley</td>\n",
       "      <td>7</td>\n",
       "    </tr>\n",
       "    <tr>\n",
       "      <th>5</th>\n",
       "      <td>Nolan</td>\n",
       "      <td>Christopher</td>\n",
       "      <td>6</td>\n",
       "    </tr>\n",
       "    <tr>\n",
       "      <th>6</th>\n",
       "      <td>Ford Coppola</td>\n",
       "      <td>Francis</td>\n",
       "      <td>6</td>\n",
       "    </tr>\n",
       "    <tr>\n",
       "      <th>7</th>\n",
       "      <td>Scott</td>\n",
       "      <td>Ridley</td>\n",
       "      <td>6</td>\n",
       "    </tr>\n",
       "    <tr>\n",
       "      <th>8</th>\n",
       "      <td>Polanski</td>\n",
       "      <td>Roman</td>\n",
       "      <td>6</td>\n",
       "    </tr>\n",
       "    <tr>\n",
       "      <th>9</th>\n",
       "      <td>Lucas</td>\n",
       "      <td>George</td>\n",
       "      <td>5</td>\n",
       "    </tr>\n",
       "  </tbody>\n",
       "</table>\n",
       "</div>"
      ],
      "text/plain": [
       "            Nom       Prénom  Nombre de films\n",
       "0     Spielberg       Steven               13\n",
       "1     Hitchcock       Alfred               10\n",
       "2         Allen        Woody                8\n",
       "3     Tarantino      Quentin                7\n",
       "4       Kubrick      Stanley                7\n",
       "5         Nolan  Christopher                6\n",
       "6  Ford Coppola      Francis                6\n",
       "7         Scott       Ridley                6\n",
       "8      Polanski        Roman                6\n",
       "9         Lucas       George                5"
      ]
     },
     "execution_count": 28,
     "metadata": {},
     "output_type": "execute_result"
    }
   ],
   "source": [
    "sql_query_16 = \"\"\"\n",
    "    SELECT lastname AS \"Nom\", firstname AS \"Prénom\", COUNT(directorId) AS \"Nombre de films\"\n",
    "    FROM movies\n",
    "    INNER JOIN artists ON movies.directorId = artists.id\n",
    "    GROUP BY directorId\n",
    "    ORDER BY COUNT(directorId) DESC\n",
    "    LIMIT 10;\n",
    "\"\"\"\n",
    "\n",
    "results = pd.read_sql_query(sql_query_16, engine)\n",
    "results.head(10)"
   ]
  },
  {
   "cell_type": "markdown",
   "metadata": {},
   "source": [
    "**Q17: Donnez les noms et prénoms des réalisateurs qui ont tourné au moins deux films. Combien sont-ils ?**"
   ]
  },
  {
   "cell_type": "code",
   "execution_count": 29,
   "metadata": {},
   "outputs": [
    {
     "data": {
      "text/html": [
       "<div>\n",
       "<style scoped>\n",
       "    .dataframe tbody tr th:only-of-type {\n",
       "        vertical-align: middle;\n",
       "    }\n",
       "\n",
       "    .dataframe tbody tr th {\n",
       "        vertical-align: top;\n",
       "    }\n",
       "\n",
       "    .dataframe thead th {\n",
       "        text-align: right;\n",
       "    }\n",
       "</style>\n",
       "<table border=\"1\" class=\"dataframe\">\n",
       "  <thead>\n",
       "    <tr style=\"text-align: right;\">\n",
       "      <th></th>\n",
       "      <th>Nom</th>\n",
       "      <th>Prénom</th>\n",
       "      <th>Nombre de films</th>\n",
       "    </tr>\n",
       "  </thead>\n",
       "  <tbody>\n",
       "    <tr>\n",
       "      <th>0</th>\n",
       "      <td>Spielberg</td>\n",
       "      <td>Steven</td>\n",
       "      <td>13</td>\n",
       "    </tr>\n",
       "    <tr>\n",
       "      <th>1</th>\n",
       "      <td>Hitchcock</td>\n",
       "      <td>Alfred</td>\n",
       "      <td>10</td>\n",
       "    </tr>\n",
       "    <tr>\n",
       "      <th>2</th>\n",
       "      <td>Allen</td>\n",
       "      <td>Woody</td>\n",
       "      <td>8</td>\n",
       "    </tr>\n",
       "    <tr>\n",
       "      <th>3</th>\n",
       "      <td>Tarantino</td>\n",
       "      <td>Quentin</td>\n",
       "      <td>7</td>\n",
       "    </tr>\n",
       "    <tr>\n",
       "      <th>4</th>\n",
       "      <td>Kubrick</td>\n",
       "      <td>Stanley</td>\n",
       "      <td>7</td>\n",
       "    </tr>\n",
       "  </tbody>\n",
       "</table>\n",
       "</div>"
      ],
      "text/plain": [
       "         Nom   Prénom  Nombre de films\n",
       "0  Spielberg   Steven               13\n",
       "1  Hitchcock   Alfred               10\n",
       "2      Allen    Woody                8\n",
       "3  Tarantino  Quentin                7\n",
       "4    Kubrick  Stanley                7"
      ]
     },
     "execution_count": 29,
     "metadata": {},
     "output_type": "execute_result"
    }
   ],
   "source": [
    "sql_query_17 = \"\"\"\n",
    "    SELECT lastname AS \"Nom\", firstname AS \"Prénom\", COUNT(directorId) AS \"Nombre de films\"\n",
    "    FROM movies\n",
    "    INNER JOIN artists ON movies.directorId = artists.id\n",
    "    GROUP BY directorId\n",
    "    ORDER BY COUNT(directorId) DESC;\n",
    "\"\"\"\n",
    "\n",
    "results = pd.read_sql_query(sql_query_17, engine)\n",
    "results.head()"
   ]
  },
  {
   "cell_type": "code",
   "execution_count": 30,
   "metadata": {},
   "outputs": [
    {
     "data": {
      "text/plain": [
       "107"
      ]
     },
     "execution_count": 30,
     "metadata": {},
     "output_type": "execute_result"
    }
   ],
   "source": [
    "len(results)"
   ]
  },
  {
   "cell_type": "markdown",
   "metadata": {},
   "source": [
    "**Q18: Dans quels films le réalisateur a-t-il le même prénom que l’un des interprètes ? (titre, nom du réalisateur, nom de l’interprète). Le réalisateur et l’interprète ne doivent pas être la même personne.**"
   ]
  },
  {
   "cell_type": "code",
   "execution_count": 31,
   "metadata": {},
   "outputs": [
    {
     "data": {
      "text/html": [
       "<div>\n",
       "<style scoped>\n",
       "    .dataframe tbody tr th:only-of-type {\n",
       "        vertical-align: middle;\n",
       "    }\n",
       "\n",
       "    .dataframe tbody tr th {\n",
       "        vertical-align: top;\n",
       "    }\n",
       "\n",
       "    .dataframe thead th {\n",
       "        text-align: right;\n",
       "    }\n",
       "</style>\n",
       "<table border=\"1\" class=\"dataframe\">\n",
       "  <thead>\n",
       "    <tr style=\"text-align: right;\">\n",
       "      <th></th>\n",
       "      <th>Titre</th>\n",
       "      <th>Prénom du réalisateur</th>\n",
       "      <th>Nom du réalisateur</th>\n",
       "      <th>Prénom de l'acteur</th>\n",
       "      <th>Nom de l'acteur</th>\n",
       "    </tr>\n",
       "  </thead>\n",
       "  <tbody>\n",
       "    <tr>\n",
       "      <th>0</th>\n",
       "      <td>Opening Night</td>\n",
       "      <td>John</td>\n",
       "      <td>Cassavetes</td>\n",
       "      <td>John</td>\n",
       "      <td>Adames</td>\n",
       "    </tr>\n",
       "    <tr>\n",
       "      <th>1</th>\n",
       "      <td>Une femme sous influence</td>\n",
       "      <td>John</td>\n",
       "      <td>Cassavetes</td>\n",
       "      <td>John</td>\n",
       "      <td>Adames</td>\n",
       "    </tr>\n",
       "    <tr>\n",
       "      <th>2</th>\n",
       "      <td>Gloria</td>\n",
       "      <td>John</td>\n",
       "      <td>Cassavetes</td>\n",
       "      <td>John</td>\n",
       "      <td>Adames</td>\n",
       "    </tr>\n",
       "    <tr>\n",
       "      <th>3</th>\n",
       "      <td>The Killer</td>\n",
       "      <td>John</td>\n",
       "      <td>Woo</td>\n",
       "      <td>John</td>\n",
       "      <td>Adames</td>\n",
       "    </tr>\n",
       "    <tr>\n",
       "      <th>4</th>\n",
       "      <td>Délivrance</td>\n",
       "      <td>John</td>\n",
       "      <td>Boorman</td>\n",
       "      <td>John</td>\n",
       "      <td>Adames</td>\n",
       "    </tr>\n",
       "  </tbody>\n",
       "</table>\n",
       "</div>"
      ],
      "text/plain": [
       "                      Titre Prénom du réalisateur Nom du réalisateur  \\\n",
       "0             Opening Night                  John         Cassavetes   \n",
       "1  Une femme sous influence                  John         Cassavetes   \n",
       "2                    Gloria                  John         Cassavetes   \n",
       "3                The Killer                  John                Woo   \n",
       "4                Délivrance                  John            Boorman   \n",
       "\n",
       "  Prénom de l'acteur Nom de l'acteur  \n",
       "0               John          Adames  \n",
       "1               John          Adames  \n",
       "2               John          Adames  \n",
       "3               John          Adames  \n",
       "4               John          Adames  "
      ]
     },
     "execution_count": 31,
     "metadata": {},
     "output_type": "execute_result"
    }
   ],
   "source": [
    "sql_query_18 = \"\"\"\n",
    "    SELECT movies.title AS \"Titre\", artists.firstname AS \"Prénom du réalisateur\", artists.lastname AS \"Nom du réalisateur\", imbric.firstname AS \"Prénom de l'acteur\", imbric.lastname AS \"Nom de l'acteur\"\n",
    "    FROM movies\n",
    "    INNER JOIN artists ON movies.directorId = artists.id\n",
    "    INNER JOIN (\n",
    "    SELECT title, firstname, lastname, artists.id AS \"id\"\n",
    "    FROM movies\n",
    "    INNER JOIN roles ON movies.id = roles.movieId\n",
    "    INNER JOIN artists ON roles.actorId = artists.id) AS imbric\n",
    "    WHERE artists.firstname = imbric.firstname;\n",
    "\"\"\"\n",
    "\n",
    "results = pd.read_sql_query(sql_query_18, engine)\n",
    "results.head(5)"
   ]
  },
  {
   "cell_type": "code",
   "execution_count": 33,
   "metadata": {},
   "outputs": [
    {
     "data": {
      "text/plain": [
       "1304"
      ]
     },
     "execution_count": 33,
     "metadata": {},
     "output_type": "execute_result"
    }
   ],
   "source": [
    "len(results)"
   ]
  },
  {
   "cell_type": "markdown",
   "metadata": {},
   "source": [
    "**Q19: Quels sont les 10 pays produisant le plus de films ?**"
   ]
  },
  {
   "cell_type": "code",
   "execution_count": 34,
   "metadata": {},
   "outputs": [
    {
     "data": {
      "text/html": [
       "<div>\n",
       "<style scoped>\n",
       "    .dataframe tbody tr th:only-of-type {\n",
       "        vertical-align: middle;\n",
       "    }\n",
       "\n",
       "    .dataframe tbody tr th {\n",
       "        vertical-align: top;\n",
       "    }\n",
       "\n",
       "    .dataframe thead th {\n",
       "        text-align: right;\n",
       "    }\n",
       "</style>\n",
       "<table border=\"1\" class=\"dataframe\">\n",
       "  <thead>\n",
       "    <tr style=\"text-align: right;\">\n",
       "      <th></th>\n",
       "      <th>Code Pays</th>\n",
       "      <th>Nom Pays</th>\n",
       "      <th>Films Produits</th>\n",
       "    </tr>\n",
       "  </thead>\n",
       "  <tbody>\n",
       "    <tr>\n",
       "      <th>0</th>\n",
       "      <td>US</td>\n",
       "      <td>Etats-Unis</td>\n",
       "      <td>131</td>\n",
       "    </tr>\n",
       "    <tr>\n",
       "      <th>1</th>\n",
       "      <td>FR</td>\n",
       "      <td>France</td>\n",
       "      <td>39</td>\n",
       "    </tr>\n",
       "    <tr>\n",
       "      <th>2</th>\n",
       "      <td>GB</td>\n",
       "      <td>Royaume-Uni</td>\n",
       "      <td>21</td>\n",
       "    </tr>\n",
       "    <tr>\n",
       "      <th>3</th>\n",
       "      <td>CA</td>\n",
       "      <td>Canada</td>\n",
       "      <td>6</td>\n",
       "    </tr>\n",
       "    <tr>\n",
       "      <th>4</th>\n",
       "      <td>DE</td>\n",
       "      <td>Allemagne</td>\n",
       "      <td>5</td>\n",
       "    </tr>\n",
       "    <tr>\n",
       "      <th>5</th>\n",
       "      <td>IT</td>\n",
       "      <td>Italie</td>\n",
       "      <td>5</td>\n",
       "    </tr>\n",
       "    <tr>\n",
       "      <th>6</th>\n",
       "      <td>JP</td>\n",
       "      <td>Japan</td>\n",
       "      <td>4</td>\n",
       "    </tr>\n",
       "    <tr>\n",
       "      <th>7</th>\n",
       "      <td>AU</td>\n",
       "      <td>Australia</td>\n",
       "      <td>3</td>\n",
       "    </tr>\n",
       "    <tr>\n",
       "      <th>8</th>\n",
       "      <td>SE</td>\n",
       "      <td>Suède</td>\n",
       "      <td>3</td>\n",
       "    </tr>\n",
       "    <tr>\n",
       "      <th>9</th>\n",
       "      <td>BE</td>\n",
       "      <td>Belgium</td>\n",
       "      <td>2</td>\n",
       "    </tr>\n",
       "  </tbody>\n",
       "</table>\n",
       "</div>"
      ],
      "text/plain": [
       "  Code Pays     Nom Pays  Films Produits\n",
       "0        US   Etats-Unis             131\n",
       "1        FR       France              39\n",
       "2        GB  Royaume-Uni              21\n",
       "3        CA       Canada               6\n",
       "4        DE    Allemagne               5\n",
       "5        IT       Italie               5\n",
       "6        JP        Japan               4\n",
       "7        AU    Australia               3\n",
       "8        SE        Suède               3\n",
       "9        BE      Belgium               2"
      ]
     },
     "execution_count": 34,
     "metadata": {},
     "output_type": "execute_result"
    }
   ],
   "source": [
    "sql_query_19 = \"\"\"\n",
    "    SELECT countrycode AS \"Code Pays\", name AS \"Nom Pays\", count(countrycode) AS \"Films Produits\"\n",
    "    FROM movies\n",
    "    INNER JOIN countries ON countries.code = movies.countrycode\n",
    "    GROUP BY countrycode\n",
    "    ORDER BY count(countrycode) DESC\n",
    "    \n",
    "    \n",
    "\"\"\"\n",
    "\n",
    "results = pd.read_sql_query(sql_query_19, engine)\n",
    "results.head(10)"
   ]
  },
  {
   "cell_type": "markdown",
   "metadata": {},
   "source": [
    "**Q20: Quels sont les 5 acteurs ayant le plus joué dans des films français ?**"
   ]
  },
  {
   "cell_type": "code",
   "execution_count": 35,
   "metadata": {},
   "outputs": [
    {
     "data": {
      "text/html": [
       "<div>\n",
       "<style scoped>\n",
       "    .dataframe tbody tr th:only-of-type {\n",
       "        vertical-align: middle;\n",
       "    }\n",
       "\n",
       "    .dataframe tbody tr th {\n",
       "        vertical-align: top;\n",
       "    }\n",
       "\n",
       "    .dataframe thead th {\n",
       "        text-align: right;\n",
       "    }\n",
       "</style>\n",
       "<table border=\"1\" class=\"dataframe\">\n",
       "  <thead>\n",
       "    <tr style=\"text-align: right;\">\n",
       "      <th></th>\n",
       "      <th>Nom</th>\n",
       "      <th>Prénom</th>\n",
       "      <th>Nombre de films</th>\n",
       "    </tr>\n",
       "  </thead>\n",
       "  <tbody>\n",
       "    <tr>\n",
       "      <th>0</th>\n",
       "      <td>Deneuve</td>\n",
       "      <td>Catherine</td>\n",
       "      <td>3</td>\n",
       "    </tr>\n",
       "    <tr>\n",
       "      <th>1</th>\n",
       "      <td>Belmondo</td>\n",
       "      <td>Jean-Paul</td>\n",
       "      <td>3</td>\n",
       "    </tr>\n",
       "    <tr>\n",
       "      <th>2</th>\n",
       "      <td>Piccoli</td>\n",
       "      <td>Michel</td>\n",
       "      <td>3</td>\n",
       "    </tr>\n",
       "    <tr>\n",
       "      <th>3</th>\n",
       "      <td>Fresnay</td>\n",
       "      <td>Pierre</td>\n",
       "      <td>2</td>\n",
       "    </tr>\n",
       "    <tr>\n",
       "      <th>4</th>\n",
       "      <td>Arestrup</td>\n",
       "      <td>Niels</td>\n",
       "      <td>2</td>\n",
       "    </tr>\n",
       "  </tbody>\n",
       "</table>\n",
       "</div>"
      ],
      "text/plain": [
       "        Nom     Prénom  Nombre de films\n",
       "0   Deneuve  Catherine                3\n",
       "1  Belmondo  Jean-Paul                3\n",
       "2   Piccoli     Michel                3\n",
       "3   Fresnay     Pierre                2\n",
       "4  Arestrup      Niels                2"
      ]
     },
     "execution_count": 35,
     "metadata": {},
     "output_type": "execute_result"
    }
   ],
   "source": [
    "sql_query_20 = \"\"\"\n",
    "    SELECT lastname AS \"Nom\", firstname AS \"Prénom\", COUNT(actorId) AS \"Nombre de films\"\n",
    "    FROM movies\n",
    "    INNER JOIN roles ON movies.id = roles.movieId\n",
    "    INNER JOIN artists ON roles.actorId = artists.id\n",
    "    WHERE countrycode = \"FR\"\n",
    "    GROUP BY actorId\n",
    "    ORDER BY COUNT(actorId) DESC\n",
    "    LIMIT 5;\n",
    "\"\"\"\n",
    "\n",
    "results = pd.read_sql_query(sql_query_20, engine)\n",
    "results.head()"
   ]
  },
  {
   "cell_type": "markdown",
   "metadata": {},
   "source": [
    "---\n",
    "\n",
    "## 3. Expression libre\n",
    "\n",
    "A vous de jouer ! Tentez quelques requêtes de votre choix (avec pourquoi pas quelques graphiques illustratifs en utilisant Matplotlib...)"
   ]
  },
  {
   "cell_type": "markdown",
   "metadata": {},
   "source": [
    "**Nombre d'acteurs par film**"
   ]
  },
  {
   "cell_type": "code",
   "execution_count": 38,
   "metadata": {},
   "outputs": [
    {
     "data": {
      "text/html": [
       "<div>\n",
       "<style scoped>\n",
       "    .dataframe tbody tr th:only-of-type {\n",
       "        vertical-align: middle;\n",
       "    }\n",
       "\n",
       "    .dataframe tbody tr th {\n",
       "        vertical-align: top;\n",
       "    }\n",
       "\n",
       "    .dataframe thead th {\n",
       "        text-align: right;\n",
       "    }\n",
       "</style>\n",
       "<table border=\"1\" class=\"dataframe\">\n",
       "  <thead>\n",
       "    <tr style=\"text-align: right;\">\n",
       "      <th></th>\n",
       "      <th>Titre</th>\n",
       "      <th>Nombre d'acteurs listés</th>\n",
       "    </tr>\n",
       "  </thead>\n",
       "  <tbody>\n",
       "    <tr>\n",
       "      <th>0</th>\n",
       "      <td>Pulp Fiction</td>\n",
       "      <td>12</td>\n",
       "    </tr>\n",
       "    <tr>\n",
       "      <th>1</th>\n",
       "      <td>Kill Bill : Volume 1</td>\n",
       "      <td>11</td>\n",
       "    </tr>\n",
       "    <tr>\n",
       "      <th>2</th>\n",
       "      <td>Reservoir Dogs</td>\n",
       "      <td>10</td>\n",
       "    </tr>\n",
       "    <tr>\n",
       "      <th>3</th>\n",
       "      <td>Le Parrain, 3ème partie</td>\n",
       "      <td>10</td>\n",
       "    </tr>\n",
       "    <tr>\n",
       "      <th>4</th>\n",
       "      <td>Le Parrain, 2ème partie</td>\n",
       "      <td>10</td>\n",
       "    </tr>\n",
       "  </tbody>\n",
       "</table>\n",
       "</div>"
      ],
      "text/plain": [
       "                     Titre  Nombre d'acteurs listés\n",
       "0             Pulp Fiction                       12\n",
       "1     Kill Bill : Volume 1                       11\n",
       "2           Reservoir Dogs                       10\n",
       "3  Le Parrain, 3ème partie                       10\n",
       "4  Le Parrain, 2ème partie                       10"
      ]
     },
     "execution_count": 38,
     "metadata": {},
     "output_type": "execute_result"
    }
   ],
   "source": [
    "sql_query_alpha = \"\"\"\n",
    "    SELECT title AS \"Titre\", COUNT(roles.movieId) AS \"Nombre d'acteurs listés\"\n",
    "    FROM movies\n",
    "    INNER JOIN roles ON movies.id = roles.movieId\n",
    "    GROUP BY roles.movieId\n",
    "    ORDER BY COUNT(roles.movieId) DESC\n",
    "    LIMIT 10;\n",
    "\"\"\"\n",
    "\n",
    "results = pd.read_sql_query(sql_query_alpha, engine)\n",
    "results.head()\n"
   ]
  },
  {
   "cell_type": "markdown",
   "metadata": {},
   "source": [
    "**Nombre de Film par an**"
   ]
  },
  {
   "cell_type": "code",
   "execution_count": 39,
   "metadata": {},
   "outputs": [
    {
     "data": {
      "text/html": [
       "<div>\n",
       "<style scoped>\n",
       "    .dataframe tbody tr th:only-of-type {\n",
       "        vertical-align: middle;\n",
       "    }\n",
       "\n",
       "    .dataframe tbody tr th {\n",
       "        vertical-align: top;\n",
       "    }\n",
       "\n",
       "    .dataframe thead th {\n",
       "        text-align: right;\n",
       "    }\n",
       "</style>\n",
       "<table border=\"1\" class=\"dataframe\">\n",
       "  <thead>\n",
       "    <tr style=\"text-align: right;\">\n",
       "      <th></th>\n",
       "      <th>Année</th>\n",
       "      <th>Nombre de films</th>\n",
       "    </tr>\n",
       "  </thead>\n",
       "  <tbody>\n",
       "    <tr>\n",
       "      <th>0</th>\n",
       "      <td>2019</td>\n",
       "      <td>2</td>\n",
       "    </tr>\n",
       "    <tr>\n",
       "      <th>1</th>\n",
       "      <td>2018</td>\n",
       "      <td>7</td>\n",
       "    </tr>\n",
       "    <tr>\n",
       "      <th>2</th>\n",
       "      <td>2017</td>\n",
       "      <td>6</td>\n",
       "    </tr>\n",
       "    <tr>\n",
       "      <th>3</th>\n",
       "      <td>2016</td>\n",
       "      <td>4</td>\n",
       "    </tr>\n",
       "    <tr>\n",
       "      <th>4</th>\n",
       "      <td>2015</td>\n",
       "      <td>4</td>\n",
       "    </tr>\n",
       "    <tr>\n",
       "      <th>5</th>\n",
       "      <td>2014</td>\n",
       "      <td>1</td>\n",
       "    </tr>\n",
       "    <tr>\n",
       "      <th>6</th>\n",
       "      <td>2013</td>\n",
       "      <td>3</td>\n",
       "    </tr>\n",
       "    <tr>\n",
       "      <th>7</th>\n",
       "      <td>2012</td>\n",
       "      <td>4</td>\n",
       "    </tr>\n",
       "    <tr>\n",
       "      <th>8</th>\n",
       "      <td>2011</td>\n",
       "      <td>5</td>\n",
       "    </tr>\n",
       "    <tr>\n",
       "      <th>9</th>\n",
       "      <td>2010</td>\n",
       "      <td>5</td>\n",
       "    </tr>\n",
       "  </tbody>\n",
       "</table>\n",
       "</div>"
      ],
      "text/plain": [
       "   Année  Nombre de films\n",
       "0   2019                2\n",
       "1   2018                7\n",
       "2   2017                6\n",
       "3   2016                4\n",
       "4   2015                4\n",
       "5   2014                1\n",
       "6   2013                3\n",
       "7   2012                4\n",
       "8   2011                5\n",
       "9   2010                5"
      ]
     },
     "execution_count": 39,
     "metadata": {},
     "output_type": "execute_result"
    }
   ],
   "source": [
    "sql_query_beta = \"\"\"\n",
    "    SELECT year AS \"Année\", COUNT(title) AS \"Nombre de films\"\n",
    "    FROM movies\n",
    "    GROUP BY year\n",
    "    ORDER BY year DESC;\n",
    "    \"\"\"\n",
    "\n",
    "results = pd.read_sql_query(sql_query_beta, engine)\n",
    "results.head(10)"
   ]
  },
  {
   "cell_type": "code",
   "execution_count": null,
   "metadata": {},
   "outputs": [],
   "source": []
  }
 ],
 "metadata": {
  "kernelspec": {
   "display_name": "Python 3",
   "language": "python",
   "name": "python3"
  },
  "language_info": {
   "codemirror_mode": {
    "name": "ipython",
    "version": 3
   },
   "file_extension": ".py",
   "mimetype": "text/x-python",
   "name": "python",
   "nbconvert_exporter": "python",
   "pygments_lexer": "ipython3",
   "version": "3.8.5"
  }
 },
 "nbformat": 4,
 "nbformat_minor": 4
}
